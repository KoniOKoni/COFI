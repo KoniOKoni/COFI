{
 "cells": [
  {
   "cell_type": "code",
   "execution_count": 1,
   "id": "541974c4",
   "metadata": {},
   "outputs": [],
   "source": [
    "import numpy as np\n",
    "import matplotlib.pyplot as plt\n",
    "from classy import Class"
   ]
  },
  {
   "cell_type": "code",
   "execution_count": 2,
   "id": "2a4d75f7",
   "metadata": {},
   "outputs": [],
   "source": [
    "colors = ['red', 'orange', 'green', 'blue']\n",
    "log10ztr_table = [2,3,4,5]\n",
    "f_SIDM_table = [0.01, 0.03, 0.05, 0.1]\n",
    "log10Gamma_table = [-3, -1, 1, 3]"
   ]
  },
  {
   "cell_type": "code",
   "execution_count": 3,
   "id": "49c94167",
   "metadata": {},
   "outputs": [],
   "source": [
    "common_settings_DCDM = {'omega_b':0.0223828,'100*theta_s':1.0399625783900215,\n",
    "                   'A_s':2.100549e-09,'n_s':0.9660499,'tau_reio':0.05430842,\n",
    "                   'N_ur':2.046,'N_ncdm':1,'m_ncdm':0.06,'T_ncdm':0.7137658555036082,'YHe':'BBN',\n",
    "                   'output':'tCl,pCl,lCl,mPk','lensing':'yes','P_k_max_1/Mpc':3.0,'non linear':'halofit'}"
   ]
  },
  {
   "cell_type": "code",
   "execution_count": 6,
   "id": "661c77f1",
   "metadata": {},
   "outputs": [],
   "source": [
    "COFI = Class()\n",
    "COFI.set(common_settings_DCDM)\n",
    "COFI.set({'omega_ini_dr': 5,'omega_ini_dcdm': 0.05 ,'Gamma_dcdm': 1e-1, 'a_tr':1/(1+1000)})\n",
    "COFI.compute()"
   ]
  },
  {
   "cell_type": "code",
   "execution_count": 8,
   "id": "046d4cd3",
   "metadata": {},
   "outputs": [],
   "source": [
    "back = COFI.get_background()"
   ]
  },
  {
   "cell_type": "code",
   "execution_count": 9,
   "id": "4940e915",
   "metadata": {},
   "outputs": [
    {
     "name": "stdout",
     "output_type": "stream",
     "text": [
      "dict_keys(['z', 'proper time [Gyr]', 'conf. time [Mpc]', 'H [1/Mpc]', 'comov. dist.', 'ang.diam.dist.', 'lum. dist.', 'comov.snd.hrz.', '(.)rho_g', '(.)rho_b', '(.)rho_cdm', '(.)rho_ncdm[0]', '(.)p_ncdm[0]', '(.)rho_lambda', '(.)rho_ur', '(.)rho_crit', '(.)rho_dcdm', '(.)rho_dr', '(.)x_dr', '(.)w_dr', '(.)cs2_dr', '(.)w_prime_dr', '(.)Gamma_dr', '(.)Omega_r', '(.)rho_tot', '(.)p_tot', '(.)p_tot_prime', 'gr.fac. D', 'gr.fac. f'])\n"
     ]
    }
   ],
   "source": [
    "print(back.keys())"
   ]
  },
  {
   "cell_type": "code",
   "execution_count": 14,
   "id": "cdc86c57",
   "metadata": {},
   "outputs": [],
   "source": [
    "omega_dm = (back['(.)rho_dcdm'] + back['(.)rho_dr'])/back['(.)rho_crit']"
   ]
  },
  {
   "cell_type": "code",
   "execution_count": 15,
   "id": "4d0c890e",
   "metadata": {},
   "outputs": [
    {
     "data": {
      "text/plain": [
       "1.207063343898728e-09"
      ]
     },
     "execution_count": 15,
     "metadata": {},
     "output_type": "execute_result"
    }
   ],
   "source": [
    "omega_dm[0]"
   ]
  },
  {
   "cell_type": "code",
   "execution_count": null,
   "id": "ea6d880c",
   "metadata": {},
   "outputs": [],
   "source": []
  }
 ],
 "metadata": {
  "kernelspec": {
   "display_name": "Python 3 (ipykernel)",
   "language": "python",
   "name": "python3"
  },
  "language_info": {
   "codemirror_mode": {
    "name": "ipython",
    "version": 3
   },
   "file_extension": ".py",
   "mimetype": "text/x-python",
   "name": "python",
   "nbconvert_exporter": "python",
   "pygments_lexer": "ipython3",
   "version": "3.12.3"
  }
 },
 "nbformat": 4,
 "nbformat_minor": 5
}
