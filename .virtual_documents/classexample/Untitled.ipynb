import numpy as np
import matplotlib.pyplot as plt
from classy import Class



