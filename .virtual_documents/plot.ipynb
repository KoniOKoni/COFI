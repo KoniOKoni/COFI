import numpy as np
import matplotlib.pyplot as plt
import scipy

Omega0_b = 0.02238280
Omega0_cdm = 0.3
Omega0_g = 4.6e-5
Omega0_lambda = 0.67
Omega0_ur = 0.001
H0 = 70*1000/299792458


def H(x, rho):
    return rho[0] + rho[1] + (H0**2)*(Omega0_b*np.pow(x, -3) + (Omega0_g + Omega0_ur)*np.pow(x, -4) + Omega0_lambda)

def f(x, rho, gamma, atr):
    if (x >= atr):
        return [-3*rho[0], -4*rho[1]]
    else:
        drhochi = -3*rho[0] - rho[0]*gamma/H(x, rho)
        drhocft = -4*rho[1] + rho[0]*gamma/H(x, rho)
        return [drhochi, drhocft]


N= 10
f_table = np.logspace(-3,1,N)
atr_table = np.logspace(-9, 0, N)
tau_table = np.logspace(1, 10, N)
a_table = np.logspace(-10, 0, 1000)


for f in f_table:
    for tau in tau_table:
        rhochiinit = (H0**2)*Omega0_cdm*np.pow(1e-10, -3)*(1+f)
        gamma = 1/(tau * 3.07e-7)
        sol = scipy.integrate.solve_ivp(f, [1e-10, 1], [rhochiinit,0], dense_output=True, args=(gamma, 1/1101))
        plt.plot(a_table, sol.sol(a_table)[0])


sol.sol


rhochiinit = (H0**2)*Omega0_cdm*np.pow(1e-10, -3)*(1+f_table[5])
gamma = 1/(tau_table[5] * 3.07e-7)
sol = scipy.integrate.solve_ivp(f, [1e-10, 1], [rhochiinit,0], dense_output=True, args=[gamma, 1/(1101)])


plt.plot(a_table,sol.sol(a_table)[0], 'r-')
plt.plot(a_table,sol.sol(a_table)[1], 'b-')
plt.xscale('log')
plt.yscale('log')



