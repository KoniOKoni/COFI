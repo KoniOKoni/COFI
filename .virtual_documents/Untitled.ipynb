import numpy as np
import matplotlib.pyplot as plt
OmegaCDM = 0.3
N_level = 50



data_atr = np.loadtxt('rhoDMatr.dat')
data_tau = np.loadtxt('rhoDMtau.dat')
fatr = (data_atr[:,0])
tauatr = data_atr[:,1]
Neffatr = data_atr[:,2]
Omegadiffatr = data_atr[:, 3]
ftau = (data_tau[:,0])
atrtau = data_tau[:,1]
Nefftau = data_tau[:, 2]
Omegadifftau = data_tau[:, 3]


fig1, (Ntau, difftau) = plt.subplots(1,2, figsize = (10,6))
Ntau.tricontourf(ftau, atrtau, Nefftau, levels = N_level)
#Ntau.set_xscale('log')
Ntau.set_yscale('log')
Ntau.set_xlabel(r'$\Omega_{0,cdm}$')
Ntau.set_ylabel(r'$\Gamma_0$ (km/s/Mpc)')
Ntau.set_title(r'$N_{eff}$, $a_{tr} = 1/(1+1100)$, Both constrained')
fig1.colorbar(Ntau.tricontourf(ftau, atrtau, Nefftau, levels = N_level), ax=Ntau,
                     orientation='horizontal').set_label(r'$\Delta N_{eff}$')

difftau.tricontourf(ftau, atrtau, Omegadifftau, levels = N_level)
#difftau.set_xscale('log')
difftau.set_yscale('log')
difftau.set_xlabel(r'$\Omega_{0,cdm}$')
difftau.set_ylabel(r'$\Gamma_0$ (km/s/Mpc)')
difftau.set_title(r'$\Omega_{\mathrm{decay}} / \Omega_{\mathrm{observed}}$, $a_{tr} = 1/(1+1100)$, Both constrained')
fig1.colorbar(difftau.tricontourf(ftau, atrtau, Omegadifftau, levels = N_level), ax=difftau,
                     orientation='horizontal').set_label(r'$\Omega_{\mathrm{decay}} / \Omega_{\mathrm{observed}}$')

fig1.tight_layout()


fig2, (Natr, diffatr) = plt.subplots(1,2, figsize = (10,6))
Natr.tricontourf(fatr, tauatr, Neffatr, levels = N_level)
#Natr.set_xscale('log')
Natr.set_yscale('log')
Natr.set_xlabel(r'$\Omega_{0,cdm}$')
Natr.set_ylabel(r'$atr$')
Natr.set_title(r'$N_{eff}$, $\Gamma_0 = 10^6$ km/s/Mpc, Both constrained')
fig2.colorbar(Natr.tricontourf(fatr, tauatr, Neffatr, levels = N_level), ax=Natr,
                     orientation='horizontal').set_label(r'$\Delta N_{eff}$')

diffatr.tricontourf(fatr, tauatr, Omegadiffatr, levels = N_level)
#diffatr.set_xscale('log')
diffatr.set_yscale('log')
diffatr.set_xlabel(r'$\Omega_{0,cdm}$')
diffatr.set_ylabel(r'$atr$')
diffatr.set_title(r'$\Omega_{\mathrm{decay}} / \Omega_{\mathrm{observed}}$, $\Gamma_0 = 10^6$ km/s/Mpc, Both constrained')
fig2.colorbar(diffatr.tricontourf(fatr, tauatr, Omegadiffatr, levels = N_level), ax=diffatr,
                     orientation='horizontal').set_label(r'$\Omega_{\mathrm{decay}} / \Omega_{\mathrm{observed}}$')

fig2.tight_layout()


np.shape(data_tau)


d_arr



