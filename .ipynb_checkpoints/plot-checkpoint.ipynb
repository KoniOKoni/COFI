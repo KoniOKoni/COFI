{
 "cells": [
  {
   "cell_type": "code",
   "execution_count": 8,
   "metadata": {},
   "outputs": [],
   "source": [
    "import numpy as np\n",
    "import matplotlib.pyplot as plt\n",
    "import scipy\n",
    "\n",
    "Omega0_b = 0.02238280\n",
    "Omega0_cdm = 0.3\n",
    "Omega0_g = 4.6e-5\n",
    "Omega0_lambda = 0.67\n",
    "Omega0_ur = 0.001\n",
    "H0 = 70*1000/299792458"
   ]
  },
  {
   "cell_type": "code",
   "execution_count": 9,
   "metadata": {},
   "outputs": [],
   "source": [
    "def H(x, rho):\n",
    "    return rho[0] + rho[1] + (H0**2)*(Omega0_b*np.exp(-3*x) + (Omega0_g + Omega0_ur)*np.exp(-4*x) + Omega0_lambda)\n",
    "\n",
    "def f(x, rho, gamma, atr):\n",
    "    if (x >= np.log(atr)):\n",
    "        return [-3*rho[0], -4*rho[1]]\n",
    "    else:\n",
    "        drhochi = -3*rho[0] - rho[0]*gamma/H(x, rho)\n",
    "        drhocft = -4*rho[1] + rho[0]*gamma/H(x, rho)\n",
    "        return [drhochi, drhocft]"
   ]
  },
  {
   "cell_type": "code",
   "execution_count": 10,
   "metadata": {},
   "outputs": [],
   "source": [
    "N= 10\n",
    "f_table = np.logspace(-3,1,N)\n",
    "atr_table = np.logspace(-9, 0, N)\n",
    "tau_table = np.logspace(1, 10, N)"
   ]
  },
  {
   "cell_type": "code",
   "execution_count": null,
   "metadata": {},
   "outputs": [
    {
     "ename": "TypeError",
     "evalue": "solve_ivp() missing 2 required positional arguments: 't_span' and 'y0'",
     "output_type": "error",
     "traceback": [
      "\u001b[0;31m---------------------------------------------------------------------------\u001b[0m",
      "\u001b[0;31mTypeError\u001b[0m                                 Traceback (most recent call last)",
      "Cell \u001b[0;32mIn[11], line 3\u001b[0m\n\u001b[1;32m      1\u001b[0m \u001b[38;5;28;01mfor\u001b[39;00m f \u001b[38;5;129;01min\u001b[39;00m f_table:\n\u001b[1;32m      2\u001b[0m     \u001b[38;5;28;01mfor\u001b[39;00m tau \u001b[38;5;129;01min\u001b[39;00m tau_table:\n\u001b[0;32m----> 3\u001b[0m         sol \u001b[38;5;241m=\u001b[39m scipy\u001b[38;5;241m.\u001b[39mintegrate\u001b[38;5;241m.\u001b[39msolve_ivp(f, )\n",
      "\u001b[0;31mTypeError\u001b[0m: solve_ivp() missing 2 required positional arguments: 't_span' and 'y0'"
     ]
    }
   ],
   "source": [
    "for f in f_table:\n",
    "    for tau in tau_table:\n",
    "        sol = scipy.integrate.solve_ivp()"
   ]
  },
  {
   "cell_type": "code",
   "execution_count": null,
   "metadata": {},
   "outputs": [],
   "source": []
  }
 ],
 "metadata": {
  "kernelspec": {
   "display_name": "base",
   "language": "python",
   "name": "python3"
  },
  "language_info": {
   "codemirror_mode": {
    "name": "ipython",
    "version": 3
   },
   "file_extension": ".py",
   "mimetype": "text/x-python",
   "name": "python",
   "nbconvert_exporter": "python",
   "pygments_lexer": "ipython3",
   "version": "3.11.7"
  }
 },
 "nbformat": 4,
 "nbformat_minor": 2
}
