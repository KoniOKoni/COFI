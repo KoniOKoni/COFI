{
 "cells": [
  {
   "cell_type": "code",
   "execution_count": 1,
   "id": "f5055d90-e8a1-494f-8bcd-1630667bb45d",
   "metadata": {},
   "outputs": [],
   "source": [
    "import numpy as np\n",
    "from numpy import sqrt, exp, log, sin, cos, pi\n",
    "import matplotlib.pyplot as plt\n",
    "import sympy\n",
    "from sympy.abc import x"
   ]
  },
  {
   "cell_type": "code",
   "execution_count": 2,
   "id": "fb180c66-e581-481a-b124-e249f9c92c07",
   "metadata": {},
   "outputs": [],
   "source": [
    "ye = 0.51099895000*1e6*sqrt(2)/(250*1e9)\n",
    "ymu = 105.6583755*1e6*sqrt(2)/(250*1e9)\n",
    "ytau = 1776.93*1e6*sqrt(2)/(250*1e9)\n",
    "vH = 250*1e9\n",
    "k = 35/6\n",
    "#dmsq21 = 7.5*1e-5\n",
    "#dmsq31 = 2.55*1e-3\n",
    "\n",
    "#IO\n",
    "dmsq21 = 7.5*1e-5\n",
    "dmsq31 = 2.45*1e-3"
   ]
  },
  {
   "cell_type": "code",
   "execution_count": 3,
   "id": "840aa6ed-5925-4e4e-afc9-1178c52e3c52",
   "metadata": {},
   "outputs": [],
   "source": [
    "f = x + sympy.sqrt(x**2 + dmsq21) + sympy.sqrt(x**2 + dmsq31) - 0.1"
   ]
  },
  {
   "cell_type": "code",
   "execution_count": 4,
   "id": "1d4c38b6-1425-4d80-b5a9-a62bc284e975",
   "metadata": {},
   "outputs": [],
   "source": [
    "m1 = float(sympy.nsolve(f,1e-8))\n",
    "m2 = sqrt(m1**2 + dmsq21)\n",
    "m3 = sqrt(m1**2 + dmsq31)"
   ]
  },
  {
   "cell_type": "code",
   "execution_count": 5,
   "id": "03a7e030-6ceb-4d52-8b22-a84489b0f956",
   "metadata": {},
   "outputs": [],
   "source": [
    "inste = m1*sqrt(2)/(vH*ye)\n",
    "instmu = m2*sqrt(2)/(vH*ymu)\n",
    "insttau = m3*sqrt(2)/(vH*ytau)"
   ]
  },
  {
   "cell_type": "code",
   "execution_count": 34,
   "id": "a2f3f56d-9863-441f-b6a7-420b4bb95721",
   "metadata": {},
   "outputs": [
    {
     "name": "stdout",
     "output_type": "stream",
     "text": [
      "4.244317328987001e-08 2.210286817584012e-10 3.092865310434808e-11\n"
     ]
    }
   ],
   "source": [
    "print(inste, instmu, insttau)"
   ]
  },
  {
   "cell_type": "code",
   "execution_count": 6,
   "id": "13a47221-41ed-4753-a7b1-4b2bdba95d80",
   "metadata": {},
   "outputs": [],
   "source": [
    "inv_ge2 = -1*log(inste)/(8*pi**2)\n",
    "inv_gmu2 = -1*log(instmu)/(8*pi**2)\n",
    "inv_gtau2 = -1*log(insttau)/(8*pi**2)"
   ]
  },
  {
   "cell_type": "code",
   "execution_count": 38,
   "id": "70507d0e-be03-497d-ab1b-1e0569401896",
   "metadata": {},
   "outputs": [
    {
     "name": "stdout",
     "output_type": "stream",
     "text": [
      "0.21499214995029187 0.28158079768964134 0.3064881971622713\n"
     ]
    }
   ],
   "source": [
    "print(inv_ge2, inv_gmu2, inv_gtau2)"
   ]
  },
  {
   "cell_type": "code",
   "execution_count": 7,
   "id": "6786ff4d-65ab-4610-8c81-2d94248ed62e",
   "metadata": {},
   "outputs": [],
   "source": [
    "remu = exp((8*pi**2/k)*(inv_ge2 - inv_gmu2))\n",
    "retau = exp((8*pi**2/k)*(inv_ge2 - inv_gtau2))\n",
    "rmutau = exp((8*pi**2/k)*(inv_gmu2 - inv_gtau2))"
   ]
  },
  {
   "cell_type": "code",
   "execution_count": 48,
   "id": "063b80bf-55f0-4d36-9863-8cca623e1d59",
   "metadata": {},
   "outputs": [
    {
     "name": "stdout",
     "output_type": "stream",
     "text": [
      "0.4060382917857128 0.28983576175901393 0.7138138634273811\n"
     ]
    }
   ],
   "source": [
    "print(remu, retau, rmutau)"
   ]
  },
  {
   "cell_type": "code",
   "execution_count": 8,
   "id": "97c1174a-2535-406a-802e-d393e5180125",
   "metadata": {},
   "outputs": [
    {
     "name": "stdout",
     "output_type": "stream",
     "text": [
      "0.40586905332728596 0.28825719676592065 0.710222162549247\n"
     ]
    }
   ],
   "source": [
    "print(remu, retau, rmutau)"
   ]
  },
  {
   "cell_type": "code",
   "execution_count": null,
   "id": "f4ac3adf-a974-4149-813d-a1b1c76d9bde",
   "metadata": {},
   "outputs": [],
   "source": []
  }
 ],
 "metadata": {
  "kernelspec": {
   "display_name": "Python 3 (ipykernel)",
   "language": "python",
   "name": "python3"
  },
  "language_info": {
   "codemirror_mode": {
    "name": "ipython",
    "version": 3
   },
   "file_extension": ".py",
   "mimetype": "text/x-python",
   "name": "python",
   "nbconvert_exporter": "python",
   "pygments_lexer": "ipython3",
   "version": "3.13.5"
  }
 },
 "nbformat": 4,
 "nbformat_minor": 5
}
